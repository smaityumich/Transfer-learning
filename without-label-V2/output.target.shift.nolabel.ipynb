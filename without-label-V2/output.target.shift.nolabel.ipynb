{
 "cells": [
  {
   "cell_type": "code",
   "execution_count": 11,
   "metadata": {},
   "outputs": [
    {
     "data": {
      "text/plain": [
       "''"
      ]
     },
     "execution_count": 11,
     "metadata": {},
     "output_type": "execute_result"
    }
   ],
   "source": [
    "import re\n",
    "import pandas as pd\n",
    "import numpy as np\n",
    "import matplotlib.pyplot as plt\n",
    "\n",
    "\n",
    "with open('experiment2.out') as fh:\n",
    "    out = fh.read()\n",
    "\n",
    "out = re.split(r'\\n\\n\\n', out); out[0]; out.pop()"
   ]
  },
  {
   "cell_type": "code",
   "execution_count": 12,
   "metadata": {},
   "outputs": [],
   "source": [
    "def find_numbers(x):\n",
    "    rawlist = re.findall(r'(\\d+)\\s|(\\d+)\\.(\\d+)', x)\n",
    "    numlist = []\n",
    "    for g in rawlist:\n",
    "        if g[0] != '':\n",
    "            numlist.append(float(g[0]))\n",
    "        if g[1] != '':\n",
    "            numlist.append(float(g[1]+'.'+g[2]))\n",
    "    return numlist[:8]+numlist[10:]"
   ]
  },
  {
   "cell_type": "code",
   "execution_count": 13,
   "metadata": {},
   "outputs": [],
   "source": [
    "def dictionary_creator(x):\n",
    "    return_dict = dict()\n",
    "    var = ['n-source','n-target','dimension','prop-of-success-target','dist-between-means','iter_index','prediction_error','bayes_error','w_error','bandwidth','target_proportion','target_prop_error']\n",
    "    for index, num in zip(var, x):\n",
    "        return_dict[index] = num\n",
    "    return return_dict"
   ]
  },
  {
   "cell_type": "code",
   "execution_count": 14,
   "metadata": {},
   "outputs": [],
   "source": [
    "out_list = [find_numbers(x) for x in out]"
   ]
  },
  {
   "cell_type": "code",
   "execution_count": 15,
   "metadata": {},
   "outputs": [],
   "source": [
    "df_out = pd.DataFrame(out_list, columns=['n-source','n-target','dimension','target-prop','dist-between-means','iter-index','prediction-error','bayes-error','w-error','bandwidth','target-prop','target-prop-error','NaN'])\n",
    "df_out = df_out.iloc[:9901, :-1]\n",
    "df_out['excess-risk'] = np.absolute(df_out['prediction-error'] - df_out['bayes-error'])"
   ]
  },
  {
   "cell_type": "code",
   "execution_count": 16,
   "metadata": {},
   "outputs": [
    {
     "data": {
      "text/html": [
       "<div>\n",
       "<style scoped>\n",
       "    .dataframe tbody tr th:only-of-type {\n",
       "        vertical-align: middle;\n",
       "    }\n",
       "\n",
       "    .dataframe tbody tr th {\n",
       "        vertical-align: top;\n",
       "    }\n",
       "\n",
       "    .dataframe thead th {\n",
       "        text-align: right;\n",
       "    }\n",
       "</style>\n",
       "<table border=\"1\" class=\"dataframe\">\n",
       "  <thead>\n",
       "    <tr style=\"text-align: right;\">\n",
       "      <th></th>\n",
       "      <th>n-source</th>\n",
       "      <th>n-target</th>\n",
       "      <th>dimension</th>\n",
       "      <th>target-prop</th>\n",
       "      <th>dist-between-means</th>\n",
       "      <th>iter-index</th>\n",
       "      <th>prediction-error</th>\n",
       "      <th>bayes-error</th>\n",
       "      <th>w-error</th>\n",
       "      <th>bandwidth</th>\n",
       "      <th>target-prop</th>\n",
       "      <th>target-prop-error</th>\n",
       "      <th>excess-risk</th>\n",
       "    </tr>\n",
       "  </thead>\n",
       "  <tbody>\n",
       "    <tr>\n",
       "      <td>0</td>\n",
       "      <td>25.0</td>\n",
       "      <td>500.0</td>\n",
       "      <td>5.0</td>\n",
       "      <td>0.8</td>\n",
       "      <td>0.5</td>\n",
       "      <td>36.0</td>\n",
       "      <td>0.652</td>\n",
       "      <td>0.185</td>\n",
       "      <td>0.793271</td>\n",
       "      <td>1.328283</td>\n",
       "      <td>0.385714</td>\n",
       "      <td>0.414286</td>\n",
       "      <td>0.467</td>\n",
       "    </tr>\n",
       "    <tr>\n",
       "      <td>1</td>\n",
       "      <td>25.0</td>\n",
       "      <td>500.0</td>\n",
       "      <td>5.0</td>\n",
       "      <td>0.8</td>\n",
       "      <td>0.5</td>\n",
       "      <td>24.0</td>\n",
       "      <td>0.787</td>\n",
       "      <td>0.191</td>\n",
       "      <td>2.060078</td>\n",
       "      <td>0.944444</td>\n",
       "      <td>0.144000</td>\n",
       "      <td>0.656000</td>\n",
       "      <td>0.596</td>\n",
       "    </tr>\n",
       "    <tr>\n",
       "      <td>2</td>\n",
       "      <td>25.0</td>\n",
       "      <td>500.0</td>\n",
       "      <td>5.0</td>\n",
       "      <td>0.8</td>\n",
       "      <td>0.5</td>\n",
       "      <td>96.0</td>\n",
       "      <td>0.823</td>\n",
       "      <td>0.177</td>\n",
       "      <td>2.494932</td>\n",
       "      <td>1.846465</td>\n",
       "      <td>0.126000</td>\n",
       "      <td>0.674000</td>\n",
       "      <td>0.646</td>\n",
       "    </tr>\n",
       "    <tr>\n",
       "      <td>3</td>\n",
       "      <td>25.0</td>\n",
       "      <td>500.0</td>\n",
       "      <td>5.0</td>\n",
       "      <td>0.8</td>\n",
       "      <td>0.5</td>\n",
       "      <td>90.0</td>\n",
       "      <td>0.298</td>\n",
       "      <td>0.218</td>\n",
       "      <td>0.348000</td>\n",
       "      <td>0.541414</td>\n",
       "      <td>0.762000</td>\n",
       "      <td>0.038000</td>\n",
       "      <td>0.080</td>\n",
       "    </tr>\n",
       "    <tr>\n",
       "      <td>4</td>\n",
       "      <td>25.0</td>\n",
       "      <td>500.0</td>\n",
       "      <td>5.0</td>\n",
       "      <td>0.8</td>\n",
       "      <td>0.5</td>\n",
       "      <td>18.0</td>\n",
       "      <td>0.581</td>\n",
       "      <td>0.185</td>\n",
       "      <td>1.426184</td>\n",
       "      <td>0.100000</td>\n",
       "      <td>0.398000</td>\n",
       "      <td>0.402000</td>\n",
       "      <td>0.396</td>\n",
       "    </tr>\n",
       "    <tr>\n",
       "      <td>...</td>\n",
       "      <td>...</td>\n",
       "      <td>...</td>\n",
       "      <td>...</td>\n",
       "      <td>...</td>\n",
       "      <td>...</td>\n",
       "      <td>...</td>\n",
       "      <td>...</td>\n",
       "      <td>...</td>\n",
       "      <td>...</td>\n",
       "      <td>...</td>\n",
       "      <td>...</td>\n",
       "      <td>...</td>\n",
       "      <td>...</td>\n",
       "    </tr>\n",
       "    <tr>\n",
       "      <td>792</td>\n",
       "      <td>3200.0</td>\n",
       "      <td>500.0</td>\n",
       "      <td>5.0</td>\n",
       "      <td>0.8</td>\n",
       "      <td>0.5</td>\n",
       "      <td>61.0</td>\n",
       "      <td>0.186</td>\n",
       "      <td>0.186</td>\n",
       "      <td>0.004548</td>\n",
       "      <td>0.886869</td>\n",
       "      <td>0.831298</td>\n",
       "      <td>0.031298</td>\n",
       "      <td>0.000</td>\n",
       "    </tr>\n",
       "    <tr>\n",
       "      <td>793</td>\n",
       "      <td>3200.0</td>\n",
       "      <td>500.0</td>\n",
       "      <td>5.0</td>\n",
       "      <td>0.8</td>\n",
       "      <td>0.5</td>\n",
       "      <td>91.0</td>\n",
       "      <td>0.194</td>\n",
       "      <td>0.194</td>\n",
       "      <td>0.012184</td>\n",
       "      <td>1.942424</td>\n",
       "      <td>0.761600</td>\n",
       "      <td>0.038400</td>\n",
       "      <td>0.000</td>\n",
       "    </tr>\n",
       "    <tr>\n",
       "      <td>794</td>\n",
       "      <td>3200.0</td>\n",
       "      <td>500.0</td>\n",
       "      <td>5.0</td>\n",
       "      <td>0.8</td>\n",
       "      <td>0.5</td>\n",
       "      <td>55.0</td>\n",
       "      <td>0.205</td>\n",
       "      <td>0.204</td>\n",
       "      <td>0.007029</td>\n",
       "      <td>1.904040</td>\n",
       "      <td>0.774807</td>\n",
       "      <td>0.025193</td>\n",
       "      <td>0.001</td>\n",
       "    </tr>\n",
       "    <tr>\n",
       "      <td>795</td>\n",
       "      <td>3200.0</td>\n",
       "      <td>500.0</td>\n",
       "      <td>5.0</td>\n",
       "      <td>0.8</td>\n",
       "      <td>0.5</td>\n",
       "      <td>79.0</td>\n",
       "      <td>0.188</td>\n",
       "      <td>0.190</td>\n",
       "      <td>0.006390</td>\n",
       "      <td>1.251515</td>\n",
       "      <td>0.784555</td>\n",
       "      <td>0.015445</td>\n",
       "      <td>0.002</td>\n",
       "    </tr>\n",
       "    <tr>\n",
       "      <td>796</td>\n",
       "      <td>3200.0</td>\n",
       "      <td>500.0</td>\n",
       "      <td>5.0</td>\n",
       "      <td>0.8</td>\n",
       "      <td>0.5</td>\n",
       "      <td>67.0</td>\n",
       "      <td>0.190</td>\n",
       "      <td>0.190</td>\n",
       "      <td>0.007394</td>\n",
       "      <td>1.635354</td>\n",
       "      <td>0.834901</td>\n",
       "      <td>0.034901</td>\n",
       "      <td>0.000</td>\n",
       "    </tr>\n",
       "  </tbody>\n",
       "</table>\n",
       "<p>797 rows × 13 columns</p>\n",
       "</div>"
      ],
      "text/plain": [
       "     n-source  n-target  dimension  target-prop  dist-between-means  \\\n",
       "0        25.0     500.0        5.0          0.8                 0.5   \n",
       "1        25.0     500.0        5.0          0.8                 0.5   \n",
       "2        25.0     500.0        5.0          0.8                 0.5   \n",
       "3        25.0     500.0        5.0          0.8                 0.5   \n",
       "4        25.0     500.0        5.0          0.8                 0.5   \n",
       "..        ...       ...        ...          ...                 ...   \n",
       "792    3200.0     500.0        5.0          0.8                 0.5   \n",
       "793    3200.0     500.0        5.0          0.8                 0.5   \n",
       "794    3200.0     500.0        5.0          0.8                 0.5   \n",
       "795    3200.0     500.0        5.0          0.8                 0.5   \n",
       "796    3200.0     500.0        5.0          0.8                 0.5   \n",
       "\n",
       "     iter-index  prediction-error  bayes-error   w-error  bandwidth  \\\n",
       "0          36.0             0.652        0.185  0.793271   1.328283   \n",
       "1          24.0             0.787        0.191  2.060078   0.944444   \n",
       "2          96.0             0.823        0.177  2.494932   1.846465   \n",
       "3          90.0             0.298        0.218  0.348000   0.541414   \n",
       "4          18.0             0.581        0.185  1.426184   0.100000   \n",
       "..          ...               ...          ...       ...        ...   \n",
       "792        61.0             0.186        0.186  0.004548   0.886869   \n",
       "793        91.0             0.194        0.194  0.012184   1.942424   \n",
       "794        55.0             0.205        0.204  0.007029   1.904040   \n",
       "795        79.0             0.188        0.190  0.006390   1.251515   \n",
       "796        67.0             0.190        0.190  0.007394   1.635354   \n",
       "\n",
       "     target-prop  target-prop-error  excess-risk  \n",
       "0       0.385714           0.414286        0.467  \n",
       "1       0.144000           0.656000        0.596  \n",
       "2       0.126000           0.674000        0.646  \n",
       "3       0.762000           0.038000        0.080  \n",
       "4       0.398000           0.402000        0.396  \n",
       "..           ...                ...          ...  \n",
       "792     0.831298           0.031298        0.000  \n",
       "793     0.761600           0.038400        0.000  \n",
       "794     0.774807           0.025193        0.001  \n",
       "795     0.784555           0.015445        0.002  \n",
       "796     0.834901           0.034901        0.000  \n",
       "\n",
       "[797 rows x 13 columns]"
      ]
     },
     "execution_count": 16,
     "metadata": {},
     "output_type": "execute_result"
    }
   ],
   "source": [
    "df_out"
   ]
  },
  {
   "cell_type": "code",
   "execution_count": 17,
   "metadata": {},
   "outputs": [
    {
     "data": {
      "text/plain": [
       "Text(0.5, 0.98, '')"
      ]
     },
     "execution_count": 17,
     "metadata": {},
     "output_type": "execute_result"
    },
    {
     "data": {
      "image/png": "[encoded data removed]",
      "text/plain": [
       "<Figure size 432x288 with 1 Axes>"
      ]
     },
     "metadata": {
      "needs_background": "light"
     },
     "output_type": "display_data"
    }
   ],
   "source": [
    "box = df_out.boxplot(column=['excess-risk'],by = 'n-source', showfliers='')\n",
    "#box.set_yscale('log')\n",
    "plt.suptitle('')"
   ]
  },
  {
   "cell_type": "code",
   "execution_count": 18,
   "metadata": {},
   "outputs": [
    {
     "data": {
      "text/plain": [
       "Text(0.5, 0.98, '')"
      ]
     },
     "execution_count": 18,
     "metadata": {},
     "output_type": "execute_result"
    },
    {
     "data": {
      "image/png": "[encoded data removed]",
      "text/plain": [
       "<Figure size 432x288 with 1 Axes>"
      ]
     },
     "metadata": {
      "needs_background": "light"
     },
     "output_type": "display_data"
    }
   ],
   "source": [
    "box = df_out.boxplot(column=['target-prop-error'],by = 'n-source', showfliers='')\n",
    "#box.set_yscale('log')\n",
    "plt.suptitle('')"
   ]
  },
  {
   "cell_type": "code",
   "execution_count": null,
   "metadata": {},
   "outputs": [],
   "source": []
  }
 ],
 "metadata": {
  "kernelspec": {
   "display_name": "Python 3",
   "language": "python",
   "name": "python3"
  },
  "language_info": {
   "codemirror_mode": {
    "name": "ipython",
    "version": 3
   },
   "file_extension": ".py",
   "mimetype": "text/x-python",
   "name": "python",
   "nbconvert_exporter": "python",
   "pygments_lexer": "ipython3",
   "version": "3.7.4"
  }
 },
 "nbformat": 4,
 "nbformat_minor": 2
}

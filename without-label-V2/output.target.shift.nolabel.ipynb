{
 "cells": [
  {
   "cell_type": "code",
   "execution_count": 106,
   "metadata": {},
   "outputs": [
    {
     "data": {
      "text/plain": [
       "''"
      ]
     },
     "execution_count": 106,
     "metadata": {},
     "output_type": "execute_result"
    }
   ],
   "source": [
    "import re\n",
    "import pandas as pd\n",
    "import numpy as np\n",
    "import matplotlib.pyplot as plt\n",
    "\n",
    "\n",
    "with open('experiment.out') as fh:\n",
    "    out = fh.read()\n",
    "\n",
    "out = re.split(r'\\n\\n\\n', out); out[0]; out.pop()"
   ]
  },
  {
   "cell_type": "code",
   "execution_count": 107,
   "metadata": {},
   "outputs": [],
   "source": [
    "def find_numbers(x):\n",
    "    rawlist = re.findall(r'(\\d+)\\s|(\\d+)\\.(\\d+)', x)\n",
    "    numlist = []\n",
    "    for g in rawlist:\n",
    "        if g[0] != '':\n",
    "            numlist.append(float(g[0]))\n",
    "        if g[1] != '':\n",
    "            numlist.append(float(g[1]+'.'+g[2]))\n",
    "    return numlist[:8]+numlist[10:]"
   ]
  },
  {
   "cell_type": "code",
   "execution_count": 108,
   "metadata": {},
   "outputs": [],
   "source": [
    "def dictionary_creator(x):\n",
    "    return_dict = dict()\n",
    "    var = ['n-source','n-target','dimension','prop-of-success-target','dist-between-means','iter_index','prediction_error','bayes_error','w_error','bandwidth','target_proportion','target_prop_error']\n",
    "    for index, num in zip(var, x):\n",
    "        return_dict[index] = num\n",
    "    return return_dict"
   ]
  },
  {
   "cell_type": "code",
   "execution_count": 109,
   "metadata": {},
   "outputs": [],
   "source": [
    "out_list = [find_numbers(x) for x in out]"
   ]
  },
  {
   "cell_type": "code",
   "execution_count": 110,
   "metadata": {},
   "outputs": [],
   "source": [
    "df_out = pd.DataFrame(out_list, columns=['n-source','n-target','dimension','target-prop','dist-between-means','iter-index','prediction-error','bayes-error','w-error','bandwidth','target-prop','target-prop-error','NaN'])\n",
    "df_out = df_out.iloc[:9901, :-1]\n",
    "df_out['excess-risk'] = np.absolute(df_out['prediction-error'] - df_out['bayes-error'])"
   ]
  },
  {
   "cell_type": "code",
   "execution_count": 111,
   "metadata": {},
   "outputs": [
    {
     "data": {
      "text/html": [
       "<div>\n",
       "<style scoped>\n",
       "    .dataframe tbody tr th:only-of-type {\n",
       "        vertical-align: middle;\n",
       "    }\n",
       "\n",
       "    .dataframe tbody tr th {\n",
       "        vertical-align: top;\n",
       "    }\n",
       "\n",
       "    .dataframe thead th {\n",
       "        text-align: right;\n",
       "    }\n",
       "</style>\n",
       "<table border=\"1\" class=\"dataframe\">\n",
       "  <thead>\n",
       "    <tr style=\"text-align: right;\">\n",
       "      <th></th>\n",
       "      <th>n-source</th>\n",
       "      <th>n-target</th>\n",
       "      <th>dimension</th>\n",
       "      <th>target-prop</th>\n",
       "      <th>dist-between-means</th>\n",
       "      <th>iter-index</th>\n",
       "      <th>prediction-error</th>\n",
       "      <th>bayes-error</th>\n",
       "      <th>w-error</th>\n",
       "      <th>bandwidth</th>\n",
       "      <th>target-prop</th>\n",
       "      <th>target-prop-error</th>\n",
       "      <th>excess-risk</th>\n",
       "    </tr>\n",
       "  </thead>\n",
       "  <tbody>\n",
       "    <tr>\n",
       "      <td>0</td>\n",
       "      <td>200.0</td>\n",
       "      <td>500.0</td>\n",
       "      <td>3.0</td>\n",
       "      <td>0.8</td>\n",
       "      <td>0.5</td>\n",
       "      <td>2.0</td>\n",
       "      <td>0.300</td>\n",
       "      <td>0.210</td>\n",
       "      <td>0.427299</td>\n",
       "      <td>0.579798</td>\n",
       "      <td>0.568889</td>\n",
       "      <td>0.231111</td>\n",
       "      <td>0.090</td>\n",
       "    </tr>\n",
       "    <tr>\n",
       "      <td>1</td>\n",
       "      <td>200.0</td>\n",
       "      <td>500.0</td>\n",
       "      <td>5.0</td>\n",
       "      <td>0.7</td>\n",
       "      <td>0.6</td>\n",
       "      <td>21.0</td>\n",
       "      <td>0.269</td>\n",
       "      <td>0.270</td>\n",
       "      <td>0.112812</td>\n",
       "      <td>1.616162</td>\n",
       "      <td>0.581250</td>\n",
       "      <td>0.118750</td>\n",
       "      <td>0.001</td>\n",
       "    </tr>\n",
       "    <tr>\n",
       "      <td>2</td>\n",
       "      <td>200.0</td>\n",
       "      <td>500.0</td>\n",
       "      <td>3.0</td>\n",
       "      <td>0.7</td>\n",
       "      <td>0.5</td>\n",
       "      <td>1.0</td>\n",
       "      <td>0.384</td>\n",
       "      <td>0.281</td>\n",
       "      <td>0.077845</td>\n",
       "      <td>0.637374</td>\n",
       "      <td>0.504599</td>\n",
       "      <td>0.195401</td>\n",
       "      <td>0.103</td>\n",
       "    </tr>\n",
       "    <tr>\n",
       "      <td>3</td>\n",
       "      <td>200.0</td>\n",
       "      <td>500.0</td>\n",
       "      <td>3.0</td>\n",
       "      <td>0.7</td>\n",
       "      <td>0.7</td>\n",
       "      <td>35.0</td>\n",
       "      <td>0.359</td>\n",
       "      <td>0.291</td>\n",
       "      <td>0.049508</td>\n",
       "      <td>0.349495</td>\n",
       "      <td>0.621333</td>\n",
       "      <td>0.078667</td>\n",
       "      <td>0.068</td>\n",
       "    </tr>\n",
       "    <tr>\n",
       "      <td>4</td>\n",
       "      <td>200.0</td>\n",
       "      <td>500.0</td>\n",
       "      <td>3.0</td>\n",
       "      <td>0.6</td>\n",
       "      <td>0.7</td>\n",
       "      <td>34.0</td>\n",
       "      <td>0.423</td>\n",
       "      <td>0.373</td>\n",
       "      <td>0.106002</td>\n",
       "      <td>1.750505</td>\n",
       "      <td>0.694445</td>\n",
       "      <td>0.094445</td>\n",
       "      <td>0.050</td>\n",
       "    </tr>\n",
       "    <tr>\n",
       "      <td>...</td>\n",
       "      <td>...</td>\n",
       "      <td>...</td>\n",
       "      <td>...</td>\n",
       "      <td>...</td>\n",
       "      <td>...</td>\n",
       "      <td>...</td>\n",
       "      <td>...</td>\n",
       "      <td>...</td>\n",
       "      <td>...</td>\n",
       "      <td>...</td>\n",
       "      <td>...</td>\n",
       "      <td>...</td>\n",
       "      <td>...</td>\n",
       "    </tr>\n",
       "    <tr>\n",
       "      <td>9896</td>\n",
       "      <td>100.0</td>\n",
       "      <td>500.0</td>\n",
       "      <td>5.0</td>\n",
       "      <td>0.8</td>\n",
       "      <td>0.5</td>\n",
       "      <td>24.0</td>\n",
       "      <td>0.673</td>\n",
       "      <td>0.226</td>\n",
       "      <td>1.106438</td>\n",
       "      <td>1.300000</td>\n",
       "      <td>0.418138</td>\n",
       "      <td>0.381862</td>\n",
       "      <td>0.447</td>\n",
       "    </tr>\n",
       "    <tr>\n",
       "      <td>9897</td>\n",
       "      <td>100.0</td>\n",
       "      <td>500.0</td>\n",
       "      <td>5.0</td>\n",
       "      <td>0.8</td>\n",
       "      <td>0.8</td>\n",
       "      <td>24.0</td>\n",
       "      <td>0.274</td>\n",
       "      <td>0.192</td>\n",
       "      <td>0.295619</td>\n",
       "      <td>1.300000</td>\n",
       "      <td>0.546651</td>\n",
       "      <td>0.253349</td>\n",
       "      <td>0.082</td>\n",
       "    </tr>\n",
       "    <tr>\n",
       "      <td>9898</td>\n",
       "      <td>100.0</td>\n",
       "      <td>500.0</td>\n",
       "      <td>5.0</td>\n",
       "      <td>0.7</td>\n",
       "      <td>0.8</td>\n",
       "      <td>24.0</td>\n",
       "      <td>0.306</td>\n",
       "      <td>0.259</td>\n",
       "      <td>0.003244</td>\n",
       "      <td>1.000000</td>\n",
       "      <td>0.725279</td>\n",
       "      <td>0.025279</td>\n",
       "      <td>0.047</td>\n",
       "    </tr>\n",
       "    <tr>\n",
       "      <td>9899</td>\n",
       "      <td>100.0</td>\n",
       "      <td>500.0</td>\n",
       "      <td>5.0</td>\n",
       "      <td>0.8</td>\n",
       "      <td>0.7</td>\n",
       "      <td>49.0</td>\n",
       "      <td>0.187</td>\n",
       "      <td>0.184</td>\n",
       "      <td>0.050494</td>\n",
       "      <td>1.300000</td>\n",
       "      <td>0.826667</td>\n",
       "      <td>0.026667</td>\n",
       "      <td>0.003</td>\n",
       "    </tr>\n",
       "    <tr>\n",
       "      <td>9900</td>\n",
       "      <td>100.0</td>\n",
       "      <td>500.0</td>\n",
       "      <td>5.0</td>\n",
       "      <td>0.8</td>\n",
       "      <td>0.8</td>\n",
       "      <td>49.0</td>\n",
       "      <td>0.215</td>\n",
       "      <td>0.212</td>\n",
       "      <td>0.318491</td>\n",
       "      <td>1.700000</td>\n",
       "      <td>0.590442</td>\n",
       "      <td>0.209558</td>\n",
       "      <td>0.003</td>\n",
       "    </tr>\n",
       "  </tbody>\n",
       "</table>\n",
       "<p>9901 rows × 13 columns</p>\n",
       "</div>"
      ],
      "text/plain": [
       "      n-source  n-target  dimension  target-prop  dist-between-means  \\\n",
       "0        200.0     500.0        3.0          0.8                 0.5   \n",
       "1        200.0     500.0        5.0          0.7                 0.6   \n",
       "2        200.0     500.0        3.0          0.7                 0.5   \n",
       "3        200.0     500.0        3.0          0.7                 0.7   \n",
       "4        200.0     500.0        3.0          0.6                 0.7   \n",
       "...        ...       ...        ...          ...                 ...   \n",
       "9896     100.0     500.0        5.0          0.8                 0.5   \n",
       "9897     100.0     500.0        5.0          0.8                 0.8   \n",
       "9898     100.0     500.0        5.0          0.7                 0.8   \n",
       "9899     100.0     500.0        5.0          0.8                 0.7   \n",
       "9900     100.0     500.0        5.0          0.8                 0.8   \n",
       "\n",
       "      iter-index  prediction-error  bayes-error   w-error  bandwidth  \\\n",
       "0            2.0             0.300        0.210  0.427299   0.579798   \n",
       "1           21.0             0.269        0.270  0.112812   1.616162   \n",
       "2            1.0             0.384        0.281  0.077845   0.637374   \n",
       "3           35.0             0.359        0.291  0.049508   0.349495   \n",
       "4           34.0             0.423        0.373  0.106002   1.750505   \n",
       "...          ...               ...          ...       ...        ...   \n",
       "9896        24.0             0.673        0.226  1.106438   1.300000   \n",
       "9897        24.0             0.274        0.192  0.295619   1.300000   \n",
       "9898        24.0             0.306        0.259  0.003244   1.000000   \n",
       "9899        49.0             0.187        0.184  0.050494   1.300000   \n",
       "9900        49.0             0.215        0.212  0.318491   1.700000   \n",
       "\n",
       "      target-prop  target-prop-error  excess-risk  \n",
       "0        0.568889           0.231111        0.090  \n",
       "1        0.581250           0.118750        0.001  \n",
       "2        0.504599           0.195401        0.103  \n",
       "3        0.621333           0.078667        0.068  \n",
       "4        0.694445           0.094445        0.050  \n",
       "...           ...                ...          ...  \n",
       "9896     0.418138           0.381862        0.447  \n",
       "9897     0.546651           0.253349        0.082  \n",
       "9898     0.725279           0.025279        0.047  \n",
       "9899     0.826667           0.026667        0.003  \n",
       "9900     0.590442           0.209558        0.003  \n",
       "\n",
       "[9901 rows x 13 columns]"
      ]
     },
     "execution_count": 111,
     "metadata": {},
     "output_type": "execute_result"
    }
   ],
   "source": [
    "df_out"
   ]
  },
  {
   "cell_type": "code",
   "execution_count": 112,
   "metadata": {},
   "outputs": [
    {
     "data": {
      "text/plain": [
       "Text(0.5, 0.98, '')"
      ]
     },
     "execution_count": 112,
     "metadata": {},
     "output_type": "execute_result"
    },
    {
     "data": {
      "image/png": "[encoded data removed]",
      "text/plain": [
       "<Figure size 432x288 with 1 Axes>"
      ]
     },
     "metadata": {
      "needs_background": "light"
     },
     "output_type": "display_data"
    }
   ],
   "source": [
    "box = df_out.boxplot(column=['excess-risk'],by = 'n-source', showfliers='')\n",
    "#box.set_yscale('log')\n",
    "plt.suptitle('')"
   ]
  },
  {
   "cell_type": "code",
   "execution_count": 113,
   "metadata": {},
   "outputs": [
    {
     "data": {
      "text/plain": [
       "Text(0.5, 0.98, '')"
      ]
     },
     "execution_count": 113,
     "metadata": {},
     "output_type": "execute_result"
    },
    {
     "data": {
      "image/png": "[encoded data removed]",
      "text/plain": [
       "<Figure size 432x288 with 1 Axes>"
      ]
     },
     "metadata": {
      "needs_background": "light"
     },
     "output_type": "display_data"
    }
   ],
   "source": [
    "box = df_out.boxplot(column=['target-prop-error'],by = 'n-source', showfliers='')\n",
    "plt.suptitle('')"
   ]
  },
  {
   "cell_type": "code",
   "execution_count": null,
   "metadata": {},
   "outputs": [],
   "source": []
  }
 ],
 "metadata": {
  "kernelspec": {
   "display_name": "Python 3",
   "language": "python",
   "name": "python3"
  },
  "language_info": {
   "codemirror_mode": {
    "name": "ipython",
    "version": 3
   },
   "file_extension": ".py",
   "mimetype": "text/x-python",
   "name": "python",
   "nbconvert_exporter": "python",
   "pygments_lexer": "ipython3",
   "version": "3.7.4"
  }
 },
 "nbformat": 4,
 "nbformat_minor": 2
}

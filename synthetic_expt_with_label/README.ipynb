{
 "cells": [
  {
   "cell_type": "markdown",
   "metadata": {},
   "source": [
    "### Data generation syntax for simulate.py\n",
    "\n",
    "**Generates data for transfer learning setup**\n",
    "\n",
    "\n",
    "Two populations: source $P$ and target $Q$\n",
    "\n",
    "\n",
    "$Q$: $x_c = [0.5\\dots \\ d\\text{ times}]$, $\\eta(x) = Q(Y=1|X=x) = \\frac{1}4+ \\frac{2}d \\|x-x_c\\|^2,$ $Q_X\\equiv U\\left([0,1]^d\\right).$ Hence, $\\pi_Q = \\int \\eta(x)dx = \\frac 5{12}, g_1(x) = \\frac{12}5 \\eta(x), $ $g_0(x) = \\frac{12}7 (1-\\eta(x)).$ \n",
    "\n",
    "\n",
    "$P$: $\\pi_P = \\frac{1}2,$ $p_X(x) = \\frac{1}2 g_1(x) + \\frac{1}2 g_0(x) = \\frac{6}7 + \\frac{12}{35}\\eta(x), $ $\\eta_P(x) = \\frac{7\\eta(x)}{5+2\\eta(x)}.$"
   ]
  },
  {
   "cell_type": "code",
   "execution_count": null,
   "metadata": {},
   "outputs": [],
   "source": []
  }
 ],
 "metadata": {
  "kernelspec": {
   "display_name": "Python 3",
   "language": "python",
   "name": "python3"
  },
  "language_info": {
   "codemirror_mode": {
    "name": "ipython",
    "version": 3
   },
   "file_extension": ".py",
   "mimetype": "text/x-python",
   "name": "python",
   "nbconvert_exporter": "python",
   "pygments_lexer": "ipython3",
   "version": "3.7.4"
  }
 },
 "nbformat": 4,
 "nbformat_minor": 2
}
